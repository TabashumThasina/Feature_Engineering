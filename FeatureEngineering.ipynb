{
 "cells": [
  {
   "cell_type": "markdown",
   "metadata": {},
   "source": [
    "# Feature Engineering¶\n",
    "The next step is to create features from the raw text so we can train the machine learning models. The steps followed are:\n",
    "\n",
    "Text Cleaning and Preparation: cleaning of special characters, downcasing, punctuation signs. possessive pronouns and stop words removal and lemmatization.\n",
    "Label coding: creation of a dictionary to map each category to a code.\n",
    "Train-test split: to test the models on unseen data.\n",
    "Text representation: use of TF-IDF scores to represent text."
   ]
  },
  {
   "cell_type": "code",
   "execution_count": 1,
   "metadata": {},
   "outputs": [],
   "source": [
    "\n",
    "import pickle\n",
    "import pandas as pd\n",
    "import re\n",
    "import nltk\n",
    "from nltk.corpus import stopwords\n",
    "from nltk.stem import WordNetLemmatizer\n",
    "from sklearn.feature_extraction.text import TfidfVectorizer\n",
    "from sklearn.model_selection import train_test_split\n",
    "from sklearn.feature_selection import chi2\n",
    "import numpy as np"
   ]
  },
  {
   "cell_type": "code",
   "execution_count": 2,
   "metadata": {},
   "outputs": [],
   "source": [
    "\n",
    "path_df = \"News_dataset.pickle\"\n",
    "\n",
    "with open(path_df, 'rb') as data:\n",
    "    df = pickle.load(data)"
   ]
  },
  {
   "cell_type": "code",
   "execution_count": 3,
   "metadata": {},
   "outputs": [
    {
     "data": {
      "text/html": [
       "<div>\n",
       "<style scoped>\n",
       "    .dataframe tbody tr th:only-of-type {\n",
       "        vertical-align: middle;\n",
       "    }\n",
       "\n",
       "    .dataframe tbody tr th {\n",
       "        vertical-align: top;\n",
       "    }\n",
       "\n",
       "    .dataframe thead th {\n",
       "        text-align: right;\n",
       "    }\n",
       "</style>\n",
       "<table border=\"1\" class=\"dataframe\">\n",
       "  <thead>\n",
       "    <tr style=\"text-align: right;\">\n",
       "      <th></th>\n",
       "      <th>Article</th>\n",
       "      <th>labels</th>\n",
       "      <th>News_length</th>\n",
       "    </tr>\n",
       "  </thead>\n",
       "  <tbody>\n",
       "    <tr>\n",
       "      <td>0</td>\n",
       "      <td>You need enable JavaScript view site . Skip Co...</td>\n",
       "      <td>0</td>\n",
       "      <td>9339</td>\n",
       "    </tr>\n",
       "    <tr>\n",
       "      <td>1</td>\n",
       "      <td>Skip main content The Verge homepage Follow Th...</td>\n",
       "      <td>1</td>\n",
       "      <td>6029</td>\n",
       "    </tr>\n",
       "    <tr>\n",
       "      <td>2</td>\n",
       "      <td>Product Reviews Top Products Appliances Babies...</td>\n",
       "      <td>1</td>\n",
       "      <td>23926</td>\n",
       "    </tr>\n",
       "    <tr>\n",
       "      <td>3</td>\n",
       "      <td>Markets Tech Media Success Perspectives Videos...</td>\n",
       "      <td>1</td>\n",
       "      <td>12377</td>\n",
       "    </tr>\n",
       "    <tr>\n",
       "      <td>4</td>\n",
       "      <td>Skip main content September 4 , 2021 Volume XI...</td>\n",
       "      <td>1</td>\n",
       "      <td>24799</td>\n",
       "    </tr>\n",
       "  </tbody>\n",
       "</table>\n",
       "</div>"
      ],
      "text/plain": [
       "                                             Article  labels  News_length\n",
       "0  You need enable JavaScript view site . Skip Co...       0         9339\n",
       "1  Skip main content The Verge homepage Follow Th...       1         6029\n",
       "2  Product Reviews Top Products Appliances Babies...       1        23926\n",
       "3  Markets Tech Media Success Perspectives Videos...       1        12377\n",
       "4  Skip main content September 4 , 2021 Volume XI...       1        24799"
      ]
     },
     "execution_count": 3,
     "metadata": {},
     "output_type": "execute_result"
    }
   ],
   "source": [
    "df.head()"
   ]
  },
  {
   "cell_type": "markdown",
   "metadata": {},
   "source": [
    "\n",
    "# 1. Text cleaning and preparation\n",
    "1.1. Special character cleaning\n",
    "We can see the following special characters:\n",
    "\n",
    "\\r\n",
    "\\n\n",
    "\\ before possessive pronouns (government's = government\\'s)\n",
    "\\ before possessive pronouns 2 (Yukos' = Yukos\\')\n",
    "\" when quoting text"
   ]
  },
  {
   "cell_type": "code",
   "execution_count": 4,
   "metadata": {},
   "outputs": [],
   "source": [
    "df['Content_Parsed_1'] = df['Article'].str.replace(\"\\r\", \" \")\n",
    "df['Content_Parsed_1'] = df['Content_Parsed_1'].str.replace(\"\\n\", \" \")\n",
    "df['Content_Parsed_1'] = df['Content_Parsed_1'].str.replace(\"    \", \" \")"
   ]
  },
  {
   "cell_type": "code",
   "execution_count": 6,
   "metadata": {},
   "outputs": [],
   "source": [
    "df['Content_Parsed_1'] = df['Content_Parsed_1'].str.replace('\"', '')"
   ]
  },
  {
   "cell_type": "markdown",
   "metadata": {},
   "source": [
    "# 1.2. Upcase/downcase\n",
    "We'll downcase the texts because we want, for example, Football and football to be the same word."
   ]
  },
  {
   "cell_type": "code",
   "execution_count": 7,
   "metadata": {},
   "outputs": [],
   "source": [
    "\n",
    "# Lowercasing the text\n",
    "df['Content_Parsed_2'] = df['Content_Parsed_1'].str.lower()"
   ]
  },
  {
   "cell_type": "markdown",
   "metadata": {},
   "source": [
    "\n",
    "# 1.3. Punctuation signs\n",
    "Punctuation signs won't have any predicting power, so we'll just get rid of them."
   ]
  },
  {
   "cell_type": "code",
   "execution_count": 8,
   "metadata": {},
   "outputs": [],
   "source": [
    "\n",
    "punctuation_signs = list(\"?:!.,;\")\n",
    "df['Content_Parsed_3'] = df['Content_Parsed_2']\n",
    "\n",
    "for punct_sign in punctuation_signs:\n",
    "    df['Content_Parsed_3'] = df['Content_Parsed_3'].str.replace(punct_sign, '')"
   ]
  },
  {
   "cell_type": "markdown",
   "metadata": {},
   "source": [
    "# 1.4. Possessive pronouns\n",
    "We'll also remove possessive pronoun terminations:"
   ]
  },
  {
   "cell_type": "code",
   "execution_count": 9,
   "metadata": {},
   "outputs": [],
   "source": [
    "df['Content_Parsed_4'] = df['Content_Parsed_3'].str.replace(\"'s\", \"\")"
   ]
  },
  {
   "cell_type": "markdown",
   "metadata": {},
   "source": [
    "# 1.5. Stemming and Lemmatization\n",
    "Since stemming can produce output words that don't exist, we'll only use a lemmatization process at this moment. Lemmatization takes into consideration the morphological analysis of the words and returns words that do exist, so it will be more useful for us."
   ]
  },
  {
   "cell_type": "code",
   "execution_count": 10,
   "metadata": {},
   "outputs": [
    {
     "name": "stderr",
     "output_type": "stream",
     "text": [
      "[nltk_data] Downloading package punkt to\n",
      "[nltk_data]     C:\\Users\\tt0342\\AppData\\Roaming\\nltk_data...\n",
      "[nltk_data]   Package punkt is already up-to-date!\n",
      "[nltk_data] Downloading package wordnet to\n",
      "[nltk_data]     C:\\Users\\tt0342\\AppData\\Roaming\\nltk_data...\n"
     ]
    },
    {
     "name": "stdout",
     "output_type": "stream",
     "text": [
      "------------------------------------------------------------\n"
     ]
    },
    {
     "name": "stderr",
     "output_type": "stream",
     "text": [
      "[nltk_data]   Unzipping corpora\\wordnet.zip.\n"
     ]
    },
    {
     "data": {
      "text/plain": [
       "True"
      ]
     },
     "execution_count": 10,
     "metadata": {},
     "output_type": "execute_result"
    }
   ],
   "source": [
    "\n",
    "# Downloading punkt and wordnet from NLTK\n",
    "nltk.download('punkt')\n",
    "print(\"------------------------------------------------------------\")\n",
    "nltk.download('wordnet')"
   ]
  },
  {
   "cell_type": "code",
   "execution_count": 11,
   "metadata": {},
   "outputs": [],
   "source": [
    "wordnet_lemmatizer = WordNetLemmatizer()"
   ]
  },
  {
   "cell_type": "code",
   "execution_count": 12,
   "metadata": {},
   "outputs": [],
   "source": [
    "nrows = len(df)\n",
    "lemmatized_text_list = []\n",
    "\n",
    "for row in range(0, nrows):\n",
    "    \n",
    "    # Create an empty list containing lemmatized words\n",
    "    lemmatized_list = []\n",
    "    \n",
    "    # Save the text and its words into an object\n",
    "    text = df.loc[row]['Content_Parsed_4']\n",
    "    text_words = text.split(\" \")\n",
    "\n",
    "    # Iterate through every word to lemmatize\n",
    "    for word in text_words:\n",
    "        lemmatized_list.append(wordnet_lemmatizer.lemmatize(word, pos=\"v\"))\n",
    "        \n",
    "    # Join the list\n",
    "    lemmatized_text = \" \".join(lemmatized_list)\n",
    "    \n",
    "    # Append to the list containing the texts\n",
    "    lemmatized_text_list.append(lemmatized_text)"
   ]
  },
  {
   "cell_type": "code",
   "execution_count": 13,
   "metadata": {},
   "outputs": [],
   "source": [
    "df['Content_Parsed_5'] = lemmatized_text_list"
   ]
  },
  {
   "cell_type": "code",
   "execution_count": 14,
   "metadata": {},
   "outputs": [],
   "source": [
    "stop_words = list(stopwords.words('english'))"
   ]
  },
  {
   "cell_type": "code",
   "execution_count": 15,
   "metadata": {},
   "outputs": [
    {
     "data": {
      "text/plain": [
       "'StopWord eating a meal'"
      ]
     },
     "execution_count": 15,
     "metadata": {},
     "output_type": "execute_result"
    }
   ],
   "source": [
    "\n",
    "example = \"me eating a meal\"\n",
    "word = \"me\"\n",
    "\n",
    "# The regular expression is:\n",
    "regex = r\"\\b\" + word + r\"\\b\"  # we need to build it like that to work properly\n",
    "\n",
    "re.sub(regex, \"StopWord\", example)"
   ]
  },
  {
   "cell_type": "code",
   "execution_count": 16,
   "metadata": {},
   "outputs": [],
   "source": [
    "df['Content_Parsed_6'] = df['Content_Parsed_5']\n",
    "\n",
    "for stop_word in stop_words:\n",
    "\n",
    "    regex_stopword = r\"\\b\" + stop_word + r\"\\b\"\n",
    "    df['Content_Parsed_6'] = df['Content_Parsed_6'].str.replace(regex_stopword, '')"
   ]
  },
  {
   "cell_type": "code",
   "execution_count": 17,
   "metadata": {},
   "outputs": [
    {
     "data": {
      "text/plain": [
       "\"Product Reviews Top Products Appliances Babies & Kids Cars Electronics Health Home & Garden Money All Products A-Z All Product Reviews Appliances Dishwashers Refrigerators Vacuum Cleaners Washing Machines Babies & Kids Bike Helmets Car Seats Humidifiers Strollers Cars New & Used Cars Research Car Buying & Pricing Maintenance & Repair Tires Electronics Headphones Laptops Printers TVs Health Blood Glucose Meters Blood Pressure Monitors Hearing Aids Treadmills Home & Garden Gas & Charcoal Grills Generators Lawn Mowers & Tractors Mattresses Money Airlines Car Insurance Homeowners Insurance Luggage All Product Reviews Appliances Kitchen Cooktops Dishwashers Microwave Ovens Wall Ovens Ranges Refrigerators Cleaning Washing Machines Clothes Dryers Vacuum Cleaners Cooking & Small Appliances Air Fryers Breadmakers Coffee Makers Electric Kettles Heating , Cooling & Air Air Conditioners Air Purifiers Dehumidifiers Thermostats Water Heaters All Appliances More Appliances Best Outdoor Pizza Ovens Making Amazing Homemade Pizza News Videos All Product Reviews Babies & Kids Most Popular CR 's Guide Coronavirus Air Purifiers Baby Monitors Bike Helmets Car Seats Children ’ Health Cribs Food Health Insurance High Chairs Humidifiers Insect Repellents Strollers Sunscreens Thermometers All Babies & Kids More Babies & Kids Best Strollers 2021 News Videos All Product Reviews Cars Research All New & Used Car Ratings Hybrids/EVs Luxury Cars Minivans Sedans Small Cars SUVs Other Vehicles Electric Bikes Electric Scooters Car Buying & Pricing Build & Buy Car Buying Service® Used Car Marketplace Car Buying Guide Trade In Estimator All Car Buying & Pricing Maintenance & Repair Tires Car Batteries Car Repair Assistant All Maintenance & Repair All Cars More Cars Best New Car Deals News Videos Talking Cars Podcast All Product Reviews Electronics Home Office Computers & Laptops Printers Tablets Wireless Routers Webcams Personal Tech & Wearables Smartphones Smartwatches Headphones Cameras Home Entertainment HDTV Antennas TVs Smart Speakers Sound Bars Streaming Media Players Gaming Headsets Digital Security & Privacy Security Planner Password Managers Guide Digital Security & Privacy All Electronics More Electronics Get Better Internet Without Busting Your Budget News Videos All Product Reviews Health Most Popular CR 's Guide Coronavirus Blood Glucose Meters Blood Pressure Monitors Electric Bikes Electric Toothbrushes Elliptical Exercisers Eyeglass & Contact Lens Stores Fitness Trackers Food Labels Hair Dyes Hearing Aids Humidifiers Insect Repellents Sunscreens Treadmills Vitamins & Supplements All Health More Health Best Sunscreens 2021 News Videos All Product Reviews Home & Garden Bedroom Mattresses Pillows Sheets Bathroom Toilets Bidet Seats & Attachments Lawn & Garden String Trimmers Grills Home Improvement & Maintenance Flooring Windows Interior & Exterior Paints Generators Water Filters Home Safety & Security Smoke & CO Detectors Home Security Cameras Home Security Systems Storm & Emergency Guide All Home & Garden More Home & Garden Best Lawn Mowers Tractors 2021 News Videos All Product Reviews Money Most Popular CR 's Guide Coronavirus Airline Travel Car Insurance Credit Cards Eyeglass & Contact Lens Stores Grocery Stores & Supermarkets Homeowners Insurance Luggage Pharmacies Retirement Planning Guide All Money More Money Best Car Insurance Companies News Videos News Issues That Matter Coronavirus Car Safety & Efficiency Data Privacy Financial Fairness Food Safety Take Action About Us Sign In Sign In Become Member Donate Monthly Giving One-Time Donation Other Ways To Give Search All Products A-Z Sign In Sign In Become Member Donate Monthly Giving One-Time Donation Other Ways To Give Sign In Remember Me Forgot username password ? Forgot username password ? Not member ? Join today Need assistance ? Please call Member Services 1-800-333-0663 Sign In Product Reviews Top Products Appliances Babies & Kids Cars Electronics Health Home & Garden Money All Products A-Z All Product Reviews Appliances Dishwashers Refrigerators Vacuum Cleaners Washing Machines Babies & Kids Bike Helmets Car Seats Humidifiers Strollers Cars New & Used Cars Research Car Buying & Pricing Maintenance & Repair Tires Electronics Headphones Laptops Printers TVs Health Blood Glucose Meters Blood Pressure Monitors Hearing Aids Treadmills Home & Garden Gas & Charcoal Grills Generators Lawn Mowers & Tractors Mattresses Money Airlines Car Insurance Homeowners Insurance Luggage All Product Reviews Appliances Kitchen Cooktops Dishwashers Microwave Ovens Wall Ovens Ranges Refrigerators Cleaning Washing Machines Clothes Dryers Vacuum Cleaners Cooking & Small Appliances Air Fryers Breadmakers Coffee Makers Electric Kettles Heating , Cooling & Air Air Conditioners Air Purifiers Dehumidifiers Thermostats Water Heaters All Appliances More Appliances Best Outdoor Pizza Ovens Making Amazing Homemade Pizza News Videos All Product Reviews Babies & Kids Most Popular CR 's Guide Coronavirus Air Purifiers Baby Monitors Bike Helmets Car Seats Children ’ Health Cribs Food Health Insurance High Chairs Humidifiers Insect Repellents Strollers Sunscreens Thermometers All Babies & Kids A-Z All Babies & Kids More Babies & Kids Best Strollers 2021 News Videos All Product Reviews Cars Research All New & Used Car Ratings Hybrids/EVs Luxury Cars Minivans Sedans Small Cars SUVs Other Vehicles Electric Bikes Electric Scooters Car Buying & Pricing Build & Buy Car Buying Service® Used Car Marketplace Car Buying Guide Trade In Estimator All Car Buying & Pricing Maintenance & Repair Tires Car Batteries Car Repair Assistant All Maintenance & Repair All Cars More Cars Best New Car Deals News Videos Talking Cars Podcast All Cars A-Z All Product Reviews Electronics Home Office Computers & Laptops Printers Tablets Wireless Routers Webcams Personal Tech & Wearables Smartphones Smartwatches Headphones Cameras Home Entertainment HDTV Antennas TVs Smart Speakers Sound Bars Streaming Media Players Gaming Headsets Digital Security & Privacy Security Planner Password Managers Guide Digital Security & Privacy All Electronics More Electronics Get Better Internet Without Busting Your Budget News Videos All Product Reviews Health Most Popular CR 's Guide Coronavirus Blood Glucose Meters Blood Pressure Monitors Electric Bikes Electric Toothbrushes Elliptical Exercisers Eyeglass & Contact Lens Stores Fitness Trackers Food Labels Hair Dyes Hearing Aids Humidifiers Insect Repellents Sunscreens Treadmills Vitamins & Supplements All Health A-Z All Health More Health Best Sunscreens 2021 News Videos All Product Reviews Home & Garden Bedroom Mattresses Pillows Sheets Bathroom Toilets Bidet Seats & Attachments Lawn & Garden String Trimmers Grills Home Improvement & Maintenance Flooring Windows Interior & Exterior Paints Generators Water Filters Home Safety & Security Smoke & CO Detectors Home Security Cameras Home Security Systems Storm & Emergency Guide All Home & Garden More Home & Garden Best Lawn Mowers Tractors 2021 News Videos All Product Reviews Money Most Popular CR 's Guide Coronavirus Airline Travel Car Insurance Credit Cards Eyeglass & Contact Lens Stores Grocery Stores & Supermarkets Homeowners Insurance Luggage Pharmacies Retirement Planning Guide All Money A-Z All Money More Money Best Car Insurance Companies News Videos News Issues That Matter Coronavirus Car Safety & Efficiency Data Privacy Financial Fairness Food Safety Take Action About Us Videos Sign In Sign In Search All Products A-Z Become Member Donate Sign In Remember Me Forgot username password ? Forgot username password ? Not member ? Join today Need assistance ? Please call Member Services 1-800-333-0663 Tesla 's 'Full Self-Driving Capability ' Falls Short Its Name The pricey option ’ make car self-driving , Tesla ’ promises scrutiny state regulators California By Mike Monticello , Keith Barry Updated May 19 , 2021 shares article shares article The features might cutting edge , even cool , think buyers wary shelling $ 10,000 electric car company Tesla calls Full Self-Driving Capability option . Tesla claims every new vehicle builds includes hardware necessary fully autonomous , company says future over-the-air software updates , cars eventually capable driving themselves—for price . But , Full Self-Driving Capability , includes features assist driver parking , changing lanes highway , even coming complete halt traffic lights stop signs , remains misnomer . And federal investigations crashes involving Tesla vehicles add , regulators increasingly scrutinizing Tesla ’ claims . Earlier week , California Department Motor Vehicles put Tesla “ review ” public statements may violate state regulations prohibit automakers advertising vehicles sale lease autonomous unless vehicle meets statutory regulatory definition autonomous vehicle company holds deployment permit , agency ’ press office confirmed CR . autopilot Fatal 'Driverless ' Tesla Crash Raises Questions About Company 's Autopilot System CR Engineers Show Tesla Will Drive With No One Driver 's Seat Cadillac 's Super Cruise Outperforms Other Driving Assistance Systems As May 2021 , National Highway Traffic Safety Administration ( NHTSA ) initiated 28 special crash investigations crashes involving Tesla vehicles advanced driver assistance systems , including Autopilot Full Self-Driving Capability . And safety experts worry automaker 's bold claims risk kind misuse widely seen social media , owners demonstrated unsafe behavior relying much car ’ autonomous abilities . “ Despite name , Full Self-Driving Capability suite requires significant driver attention ensure developing-technology features ’ introduce new safety risks driver , vehicles road , ” says Jake Fisher , senior director auto testing Consumer Reports . “ Not , evaluations determined several features ’ provide much way real benefits customers , despite extremely high purchase price. ” Even Tesla said adding Full Self-Driving Capability turn Tesla self-driving car . Records California Department Motor Vehicles ( DMV ) released legal advocacy group Plainsite reveal attorney automaker told DMV officials March 2021 , Tesla vehicles equipped Full Self-Driving Capability still require driver steer , brake , accelerate needed . That makes less “ Full. ” Tesla distinguished carmakers almost decade building sleek electric cars industry-leading driving ranges developing new technology aimed one day creating fully autonomous , self-driving car . Though made significant strides automated driving , owners rely Tesla ’ driver assistance features necessarily add safety make driving easier , based Consumer Reports ’ extensive testing experience . Tesla Road Tests Tesla Model 3 Tesla Model S Tesla Model X First Drive : Tesla Model Y Throughout fall 2020 , assessed Full Self-Driving Capability features Tesla vehicles previously purchased regular testing program . The features , designed work certain situations , private parking lot highway driving , turned driver . We put feature suite test , results , detailed , mixed , say least . We contacted Tesla series questions article , company respond repeated requests comment . Read details findings , check video . Highlights From Our Testing Most features within Tesla ’ Full Self-Driving Capability suite worked inconsistently , including Autopark self-parking system around several years . Sometimes would recognize parking space suitable , ’ park . But drove space later , parking spot ’ exist . It also often ’ park straight parking lines . Smart Summon , allows car drive remotely location within private parking lot , would sometimes drive wrong side parking lot driving lanes , ’ always stop stop signs lot . Navigate Autopilot , activated , allows Tesla traveling highway autonomously take on- off-ramps make lane changes long destination programmed navigation system . We found performance inconsistent , system sometimes ignoring exit ramps set route , driving carpool lane , staying passing lane long periods time . The feature also would completely disengage times apparent reason . Traffic Light Stop Sign Control designed come complete stop stoplights , even green , unless driver overrides system . We found several problems system , including basic idea goes normal driving practice car start slowing stop green light . At times , also drove stop signs , slammed brakes yield signs even merge clear , stopped every exit going around traffic circle . Tesla ’ active driving assistance systems split two parts : The first , Autopilot—which includes adaptive cruise control ( Tesla refers Traffic-Aware Cruise Control ) lane keeping assistance capabilities ( Autosteer Tesla terminology ) —is standard every new Tesla . For evaluation , focused optional Full Self-Driving Capability suite driving assistance systems : Autopark , Auto Lane Change , Summon , Smart Summon , Navigate Autopilot , Traffic Light Stop Sign Control . Below , explain feature suite , intended use , performed tests . How We Did Testing Consumer Reports Consumer Reports We ran tests Full Self-Driving Capability features various times day , variety weather conditions , many different locations . We also made sure up-to-date hardware software available , testing version 2020.24.6.4 running Hardware 3 . This important note , Tesla ’ over-the-air software updates alter way features perform . The first three features evaluated story—Autopark , Auto Lane Change , Summon—have around years , improved time . However , Tesla ’ recent features—Smart Summon , Navigate Autopilot , Traffic Light Stop Sign Control—gave us significant concerns usefulness safety . Autopark Autopark “ helps automatically parallel perpendicular park car , single touch , ” according information Tesla ’ website . Here ’ system works : As cruise either regular parallel parking spot parking lot , “ P ” pop center display screen indicating system found appropriate spot . Tap “ P ” touch screen shift gear selector Reverse , system automatically handle everything involved parking car , including steering braking . We found often worked advertised , times difficulty engaging . In cases , ’ recognize spots seemed appropriate drove past . This problem ’ “ force ” system work—it recognize appropriate spot . There seemed consistent reason sometimes recognize parking spot drove notice exact spot another drive-by . Similar features around years cars automakers , suffer problems . “ Autopark also often ’ park straight lines , point ’ embarrassed got car realized parked cockeyed fashion , ” says Kelly Funkhouser , head connected automated vehicle testing CR . Auto Lane Change While unique Tesla vehicles , feature straightforward works advertised . It “ assists moving adjacent lane highway Autosteer engaged , ” according Tesla . If driver hits turn-signal stalk change lanes Autopilot activated , car perform lane-change maneuver without steering input needed driver . An animation appears screen shows car move , wait make lane change car lane want move . “ Ultimately , though , safety lane change still driver ’ responsibility , ” Fisher says . Summon This feature designed allow car drive short distance forward backward without driver behind wheel . Summon “ moves car tight space using mobile app key , ” according Tesla ’ website . When using Tesla app smartphone , direct car slowly forward backward spot pressing corresponding button phone key fob , even programmed open close garage door . We found , fact , perform functions , tests mimic squeezing car fairly tight parking spot cars crowding parking lane lines slightly , able complete maneuver . It works inconsistently , though . Our testers found sometimes system would line well within parking space back halfway spot , leaving part car sticking . Other times would pull parking spot angle call day . It ’ logical think Summon ’ practical use help deal tight parking spaces ’ squeeze car . However , owner ’ manual CR ’ Tesla Model 3 says “ parking narrow space limits ability sensors accurately detect location obstacles , increasing risk damage Model 3 and/or surrounding objects. ” “ Unfortunately , Tesla ’ give best-use case Summon , leaves us perplexed system really intended ’ parking tight spaces—other impress friends car drive remotely , ” Funkhouser says . “ You also need keep close eye car maneuvers make sure ’ run anything. ” Smart Summon Consumer Reports Consumer Reports As name implies , Smart Summon intended considerably advanced feature regular Summon . Tesla says “ designed allow car drive location choosing. ” Tesla ’ website states Smart Summon , “ car navigate complex environments parking spaces , maneuvering around objects necessary come find parking lot. ” Using Tesla smartphone app , driver either pinpoint destination spot map car , car drive using Come Me button . We tried Smart Summon number scenarios , including parking lot CR headquarters Yonkers , N.Y . Overall , system proved unreliable . At times would take overly complicated routes reach us , situations might get stuck incline , deactivate completely . Even Smart Summon able arrive specified location , would spend time wrong lane parking lot , pause parking-lot stop signs , take wide turns head toward parked cars drive Reverse avoid collision , shown animation . These situations could cause confusion drivers , well potential hazard pedestrians car ’ path . Tesla states clearly website “ Smart Summon intended use private parking lots driveways . You still responsible car must monitor surroundings times within line sight may detect obstacles. ” Private parking lots include stores restaurants , means think Smart Summon personal valet service . We see benefits feature , instance car drive meet groceries near store entrance rainy day . But Tesla ’ bugs worked yet , testing shows . “ At times appeared erratic , ” Funkhouser says . “ We think customer experiences system ’ inconsistent behavior , likely use again. ” Navigate Autopilot This feature expands existing Autopilot system , adding ability Tesla ’ traveling highway take on- off-ramps , make lane changes without driver input destination programmed car ’ navigation system . It “ actively guides car highway ’ on-ramp off-ramp , including suggesting lane changes , navigating interchanges , automatically engaging turn signal taking correct exit , ” according Tesla . While system , fact , things , far consistent . In one case , system completely ignored exit supposed take ; put tester route also stuck car carpool lane one person vehicle . In another example , system suddenly disengaged , causing confusion driver heavily trafficked area on-ramp quickly approaching . Yet ’ situations exactly like driver needs focused environment around , distracted driving feature suddenly problem . We also found Navigate Autopilot would occasionally leave us driving passing lane highway long periods time , safest course action—not mention proper lane etiquette state laws—requires moving back center right lane situation . We also concerned Navigate Autopilot allow driver set feature automatically make lane changes , without driver activating turn-signal stalk without system giving warning driver lane change happen . “ The setting allows driver turn system ’ lane-change confirmations warnings worrying , downright dangerous , ” Fisher says . “ It could lead drivers becoming startled unexpected unsafe lane change driving highway speeds. ” Traffic Light Stop Sign Control Consumer Reports Consumer Reports This recent feature join Full Self-Driving Capability package , used conjunction adaptive cruise control lane keeping assistance . Tesla says Autopilot engaged , system “ identifies stop signs traffic lights automatically slows car stop approach , active supervision. ” If intersection clear , driver tap accelerator pedal pull gear selector stalk keep car going . By Tesla ’ design , feature bring car complete stop traffic light , regardless whether light red , yellow , green . The time Tesla drive green light without stopping lead vehicle front follow light—or override system . In addition fact goes normal driving etiquette car start slowing stop green light , also found Tesla would occasionally hit brakes far away stop sign , causing driver keep hitting accelerator pedal gear selector stalk multiple times move car way stop sign . In circumstances , car simply ’ recognize stop sign , forcing tester hit brakes avoid driving right stop sign intersection . In animation , recognized sign late , slammed brakes , came stop middle intersection . The system also problems navigating roundabout , stopping exit went around traffic circle . Other times would slam brakes approaching yield sign , even merge clear . “ In current iteration , think Tesla ’ Traffic Light Stop Sign Control create confusion distraction driver , ” Fisher says . Beta Testing Tesla labels Navigate Autopilot Traffic Light Stop Sign Control features “ Beta ” center display screen , usually means computer software still development . While opt use features , testing demonstrated number problems using everyday driving . For article , asked Tesla email definition beta asked driver tell separates features listed beta . Tesla respond . “ Tesla repeatedly rolled crude beta features , put people ’ safety risk ’ used anywhere private test track proving ground , ” says William Wallace , manager safety policy Consumer Reports . Tesla says features improve time , point ’ seem worth hefty $ 8,000 price tag . “ It seems like Tesla focused automaker features rather ensuring features work well , ” Funkhouser says . “ Its time energy could better spent developing driver monitoring system Autopilot significantly improve safety usefulness system. ” Tesla collects data buy cars help improve , using developing technology like road come without risk drivers . We ’ continue evaluate active driving assistance systems available . Editor 's Note : This article updated add information California DMV Tesla `` review '' statements made FSD feature also information NHTSA initiated 28 special crash investigations crashes involving Tesla vehicles advanced driver assistance systems including Autopilot Full Self-Driving Capability . An earlier update Oct. 23 , 2020 , added information price increase FSD $ 10,000 company started releasing significant FSD update limited owners `` beta '' form . This article originally published Sept. 4 , 2020 . Mike Monticello After dad gave ride Yamaha two-stroke motorcycle I 3 , I hooked anything engine . I got master ’ journalism means end : To drive cars get paid , led jobs Road & Track Edmunds.com . My thrilling moment far hurtling autobahn GPS-timed 217.1 mph Ruf Rt12 . On weekends find churning dirt mountain bike car motorcycle track days . Follow Twitter . ( @ MikeMonticello ) Keith Barry Despite love quirky , old European sedans like Renault Medallion , 's passion help others find safe , reliable car still puts smile face—even 're stuck traffic . When I 'm behind wheel keyboard , find exploring new city foot planning next trip . Sharing Nice Yes , send copy email . Send We respect privacy . All email addresses provide used sending story . Thanks sharing . Oops , messed . Try later More From Consumer Reports SHOW COMMENTS commenting powered Facebook Be first comment Member Support Contact Us Account Settings What Membership ? Make Donation Newsletters Give Gift About About Us Career Opportunities Media Room Advocacy CR Recommended Program Data Intelligence Digital Lab Product Reviews Appliances Babies & Kids Cars Electronics Health Home & Garden Money A-Z Index Magazine & Books Current Issue CR Digital Archive 5 Year Index CR Store More Video en Español Report Safety Problem Give Confidential News Tip Buy New Car Buy Used Car Join Donate Facebook Twitter YouTube Pinterest Privacy Policy User Agreement Ad Choices Do Not Sell My Personal Information © 2021 Consumer Reports , Inc .\""
      ]
     },
     "execution_count": 17,
     "metadata": {},
     "output_type": "execute_result"
    }
   ],
   "source": [
    "df.loc[2]['Article']"
   ]
  },
  {
   "cell_type": "code",
   "execution_count": 18,
   "metadata": {},
   "outputs": [
    {
     "data": {
      "text/plain": [
       "\"Product Reviews Top Products Appliances Babies & Kids Cars Electronics Health Home & Garden Money All Products A-Z All Product Reviews Appliances Dishwashers Refrigerators Vacuum Cleaners Washing Machines Babies & Kids Bike Helmets Car Seats Humidifiers Strollers Cars New & Used Cars Research Car Buying & Pricing Maintenance & Repair Tires Electronics Headphones Laptops Printers TVs Health Blood Glucose Meters Blood Pressure Monitors Hearing Aids Treadmills Home & Garden Gas & Charcoal Grills Generators Lawn Mowers & Tractors Mattresses Money Airlines Car Insurance Homeowners Insurance Luggage All Product Reviews Appliances Kitchen Cooktops Dishwashers Microwave Ovens Wall Ovens Ranges Refrigerators Cleaning Washing Machines Clothes Dryers Vacuum Cleaners Cooking & Small Appliances Air Fryers Breadmakers Coffee Makers Electric Kettles Heating , Cooling & Air Air Conditioners Air Purifiers Dehumidifiers Thermostats Water Heaters All Appliances More Appliances Best Outdoor Pizza Ovens Making Amazing Homemade Pizza News Videos All Product Reviews Babies & Kids Most Popular CR 's Guide Coronavirus Air Purifiers Baby Monitors Bike Helmets Car Seats Children ’ Health Cribs Food Health Insurance High Chairs Humidifiers Insect Repellents Strollers Sunscreens Thermometers All Babies & Kids More Babies & Kids Best Strollers 2021 News Videos All Product Reviews Cars Research All New & Used Car Ratings Hybrids/EVs Luxury Cars Minivans Sedans Small Cars SUVs Other Vehicles Electric Bikes Electric Scooters Car Buying & Pricing Build & Buy Car Buying Service® Used Car Marketplace Car Buying Guide Trade In Estimator All Car Buying & Pricing Maintenance & Repair Tires Car Batteries Car Repair Assistant All Maintenance & Repair All Cars More Cars Best New Car Deals News Videos Talking Cars Podcast All Product Reviews Electronics Home Office Computers & Laptops Printers Tablets Wireless Routers Webcams Personal Tech & Wearables Smartphones Smartwatches Headphones Cameras Home Entertainment HDTV Antennas TVs Smart Speakers Sound Bars Streaming Media Players Gaming Headsets Digital Security & Privacy Security Planner Password Managers Guide Digital Security & Privacy All Electronics More Electronics Get Better Internet Without Busting Your Budget News Videos All Product Reviews Health Most Popular CR 's Guide Coronavirus Blood Glucose Meters Blood Pressure Monitors Electric Bikes Electric Toothbrushes Elliptical Exercisers Eyeglass & Contact Lens Stores Fitness Trackers Food Labels Hair Dyes Hearing Aids Humidifiers Insect Repellents Sunscreens Treadmills Vitamins & Supplements All Health More Health Best Sunscreens 2021 News Videos All Product Reviews Home & Garden Bedroom Mattresses Pillows Sheets Bathroom Toilets Bidet Seats & Attachments Lawn & Garden String Trimmers Grills Home Improvement & Maintenance Flooring Windows Interior & Exterior Paints Generators Water Filters Home Safety & Security Smoke & CO Detectors Home Security Cameras Home Security Systems Storm & Emergency Guide All Home & Garden More Home & Garden Best Lawn Mowers Tractors 2021 News Videos All Product Reviews Money Most Popular CR 's Guide Coronavirus Airline Travel Car Insurance Credit Cards Eyeglass & Contact Lens Stores Grocery Stores & Supermarkets Homeowners Insurance Luggage Pharmacies Retirement Planning Guide All Money More Money Best Car Insurance Companies News Videos News Issues That Matter Coronavirus Car Safety & Efficiency Data Privacy Financial Fairness Food Safety Take Action About Us Sign In Sign In Become Member Donate Monthly Giving One-Time Donation Other Ways To Give Search All Products A-Z Sign In Sign In Become Member Donate Monthly Giving One-Time Donation Other Ways To Give Sign In Remember Me Forgot username password ? Forgot username password ? Not member ? Join today Need assistance ? Please call Member Services 1-800-333-0663 Sign In Product Reviews Top Products Appliances Babies & Kids Cars Electronics Health Home & Garden Money All Products A-Z All Product Reviews Appliances Dishwashers Refrigerators Vacuum Cleaners Washing Machines Babies & Kids Bike Helmets Car Seats Humidifiers Strollers Cars New & Used Cars Research Car Buying & Pricing Maintenance & Repair Tires Electronics Headphones Laptops Printers TVs Health Blood Glucose Meters Blood Pressure Monitors Hearing Aids Treadmills Home & Garden Gas & Charcoal Grills Generators Lawn Mowers & Tractors Mattresses Money Airlines Car Insurance Homeowners Insurance Luggage All Product Reviews Appliances Kitchen Cooktops Dishwashers Microwave Ovens Wall Ovens Ranges Refrigerators Cleaning Washing Machines Clothes Dryers Vacuum Cleaners Cooking & Small Appliances Air Fryers Breadmakers Coffee Makers Electric Kettles Heating , Cooling & Air Air Conditioners Air Purifiers Dehumidifiers Thermostats Water Heaters All Appliances More Appliances Best Outdoor Pizza Ovens Making Amazing Homemade Pizza News Videos All Product Reviews Babies & Kids Most Popular CR 's Guide Coronavirus Air Purifiers Baby Monitors Bike Helmets Car Seats Children ’ Health Cribs Food Health Insurance High Chairs Humidifiers Insect Repellents Strollers Sunscreens Thermometers All Babies & Kids A-Z All Babies & Kids More Babies & Kids Best Strollers 2021 News Videos All Product Reviews Cars Research All New & Used Car Ratings Hybrids/EVs Luxury Cars Minivans Sedans Small Cars SUVs Other Vehicles Electric Bikes Electric Scooters Car Buying & Pricing Build & Buy Car Buying Service® Used Car Marketplace Car Buying Guide Trade In Estimator All Car Buying & Pricing Maintenance & Repair Tires Car Batteries Car Repair Assistant All Maintenance & Repair All Cars More Cars Best New Car Deals News Videos Talking Cars Podcast All Cars A-Z All Product Reviews Electronics Home Office Computers & Laptops Printers Tablets Wireless Routers Webcams Personal Tech & Wearables Smartphones Smartwatches Headphones Cameras Home Entertainment HDTV Antennas TVs Smart Speakers Sound Bars Streaming Media Players Gaming Headsets Digital Security & Privacy Security Planner Password Managers Guide Digital Security & Privacy All Electronics More Electronics Get Better Internet Without Busting Your Budget News Videos All Product Reviews Health Most Popular CR 's Guide Coronavirus Blood Glucose Meters Blood Pressure Monitors Electric Bikes Electric Toothbrushes Elliptical Exercisers Eyeglass & Contact Lens Stores Fitness Trackers Food Labels Hair Dyes Hearing Aids Humidifiers Insect Repellents Sunscreens Treadmills Vitamins & Supplements All Health A-Z All Health More Health Best Sunscreens 2021 News Videos All Product Reviews Home & Garden Bedroom Mattresses Pillows Sheets Bathroom Toilets Bidet Seats & Attachments Lawn & Garden String Trimmers Grills Home Improvement & Maintenance Flooring Windows Interior & Exterior Paints Generators Water Filters Home Safety & Security Smoke & CO Detectors Home Security Cameras Home Security Systems Storm & Emergency Guide All Home & Garden More Home & Garden Best Lawn Mowers Tractors 2021 News Videos All Product Reviews Money Most Popular CR 's Guide Coronavirus Airline Travel Car Insurance Credit Cards Eyeglass & Contact Lens Stores Grocery Stores & Supermarkets Homeowners Insurance Luggage Pharmacies Retirement Planning Guide All Money A-Z All Money More Money Best Car Insurance Companies News Videos News Issues That Matter Coronavirus Car Safety & Efficiency Data Privacy Financial Fairness Food Safety Take Action About Us Videos Sign In Sign In Search All Products A-Z Become Member Donate Sign In Remember Me Forgot username password ? Forgot username password ? Not member ? Join today Need assistance ? Please call Member Services 1-800-333-0663 Tesla 's 'Full Self-Driving Capability ' Falls Short Its Name The pricey option ’ make car self-driving , Tesla ’ promises scrutiny state regulators California By Mike Monticello , Keith Barry Updated May 19 , 2021 shares article shares article The features might cutting edge , even cool , think buyers wary shelling $ 10,000 electric car company Tesla calls Full Self-Driving Capability option . Tesla claims every new vehicle builds includes hardware necessary fully autonomous , company says future over-the-air software updates , cars eventually capable driving themselves—for price . But , Full Self-Driving Capability , includes features assist driver parking , changing lanes highway , even coming complete halt traffic lights stop signs , remains misnomer . And federal investigations crashes involving Tesla vehicles add , regulators increasingly scrutinizing Tesla ’ claims . Earlier week , California Department Motor Vehicles put Tesla “ review ” public statements may violate state regulations prohibit automakers advertising vehicles sale lease autonomous unless vehicle meets statutory regulatory definition autonomous vehicle company holds deployment permit , agency ’ press office confirmed CR . autopilot Fatal 'Driverless ' Tesla Crash Raises Questions About Company 's Autopilot System CR Engineers Show Tesla Will Drive With No One Driver 's Seat Cadillac 's Super Cruise Outperforms Other Driving Assistance Systems As May 2021 , National Highway Traffic Safety Administration ( NHTSA ) initiated 28 special crash investigations crashes involving Tesla vehicles advanced driver assistance systems , including Autopilot Full Self-Driving Capability . And safety experts worry automaker 's bold claims risk kind misuse widely seen social media , owners demonstrated unsafe behavior relying much car ’ autonomous abilities . “ Despite name , Full Self-Driving Capability suite requires significant driver attention ensure developing-technology features ’ introduce new safety risks driver , vehicles road , ” says Jake Fisher , senior director auto testing Consumer Reports . “ Not , evaluations determined several features ’ provide much way real benefits customers , despite extremely high purchase price. ” Even Tesla said adding Full Self-Driving Capability turn Tesla self-driving car . Records California Department Motor Vehicles ( DMV ) released legal advocacy group Plainsite reveal attorney automaker told DMV officials March 2021 , Tesla vehicles equipped Full Self-Driving Capability still require driver steer , brake , accelerate needed . That makes less “ Full. ” Tesla distinguished carmakers almost decade building sleek electric cars industry-leading driving ranges developing new technology aimed one day creating fully autonomous , self-driving car . Though made significant strides automated driving , owners rely Tesla ’ driver assistance features necessarily add safety make driving easier , based Consumer Reports ’ extensive testing experience . Tesla Road Tests Tesla Model 3 Tesla Model S Tesla Model X First Drive : Tesla Model Y Throughout fall 2020 , assessed Full Self-Driving Capability features Tesla vehicles previously purchased regular testing program . The features , designed work certain situations , private parking lot highway driving , turned driver . We put feature suite test , results , detailed , mixed , say least . We contacted Tesla series questions article , company respond repeated requests comment . Read details findings , check video . Highlights From Our Testing Most features within Tesla ’ Full Self-Driving Capability suite worked inconsistently , including Autopark self-parking system around several years . Sometimes would recognize parking space suitable , ’ park . But drove space later , parking spot ’ exist . It also often ’ park straight parking lines . Smart Summon , allows car drive remotely location within private parking lot , would sometimes drive wrong side parking lot driving lanes , ’ always stop stop signs lot . Navigate Autopilot , activated , allows Tesla traveling highway autonomously take on- off-ramps make lane changes long destination programmed navigation system . We found performance inconsistent , system sometimes ignoring exit ramps set route , driving carpool lane , staying passing lane long periods time . The feature also would completely disengage times apparent reason . Traffic Light Stop Sign Control designed come complete stop stoplights , even green , unless driver overrides system . We found several problems system , including basic idea goes normal driving practice car start slowing stop green light . At times , also drove stop signs , slammed brakes yield signs even merge clear , stopped every exit going around traffic circle . Tesla ’ active driving assistance systems split two parts : The first , Autopilot—which includes adaptive cruise control ( Tesla refers Traffic-Aware Cruise Control ) lane keeping assistance capabilities ( Autosteer Tesla terminology ) —is standard every new Tesla . For evaluation , focused optional Full Self-Driving Capability suite driving assistance systems : Autopark , Auto Lane Change , Summon , Smart Summon , Navigate Autopilot , Traffic Light Stop Sign Control . Below , explain feature suite , intended use , performed tests . How We Did Testing Consumer Reports Consumer Reports We ran tests Full Self-Driving Capability features various times day , variety weather conditions , many different locations . We also made sure up-to-date hardware software available , testing version 2020.24.6.4 running Hardware 3 . This important note , Tesla ’ over-the-air software updates alter way features perform . The first three features evaluated story—Autopark , Auto Lane Change , Summon—have around years , improved time . However , Tesla ’ recent features—Smart Summon , Navigate Autopilot , Traffic Light Stop Sign Control—gave us significant concerns usefulness safety . Autopark Autopark “ helps automatically parallel perpendicular park car , single touch , ” according information Tesla ’ website . Here ’ system works : As cruise either regular parallel parking spot parking lot , “ P ” pop center display screen indicating system found appropriate spot . Tap “ P ” touch screen shift gear selector Reverse , system automatically handle everything involved parking car , including steering braking . We found often worked advertised , times difficulty engaging . In cases , ’ recognize spots seemed appropriate drove past . This problem ’ “ force ” system work—it recognize appropriate spot . There seemed consistent reason sometimes recognize parking spot drove notice exact spot another drive-by . Similar features around years cars automakers , suffer problems . “ Autopark also often ’ park straight lines , point ’ embarrassed got car realized parked cockeyed fashion , ” says Kelly Funkhouser , head connected automated vehicle testing CR . Auto Lane Change While unique Tesla vehicles , feature straightforward works advertised . It “ assists moving adjacent lane highway Autosteer engaged , ” according Tesla . If driver hits turn-signal stalk change lanes Autopilot activated , car perform lane-change maneuver without steering input needed driver . An animation appears screen shows car move , wait make lane change car lane want move . “ Ultimately , though , safety lane change still driver ’ responsibility , ” Fisher says . Summon This feature designed allow car drive short distance forward backward without driver behind wheel . Summon “ moves car tight space using mobile app key , ” according Tesla ’ website . When using Tesla app smartphone , direct car slowly forward backward spot pressing corresponding button phone key fob , even programmed open close garage door . We found , fact , perform functions , tests mimic squeezing car fairly tight parking spot cars crowding parking lane lines slightly , able complete maneuver . It works inconsistently , though . Our testers found sometimes system would line well within parking space back halfway spot , leaving part car sticking . Other times would pull parking spot angle call day . It ’ logical think Summon ’ practical use help deal tight parking spaces ’ squeeze car . However , owner ’ manual CR ’ Tesla Model 3 says “ parking narrow space limits ability sensors accurately detect location obstacles , increasing risk damage Model 3 and/or surrounding objects. ” “ Unfortunately , Tesla ’ give best-use case Summon , leaves us perplexed system really intended ’ parking tight spaces—other impress friends car drive remotely , ” Funkhouser says . “ You also need keep close eye car maneuvers make sure ’ run anything. ” Smart Summon Consumer Reports Consumer Reports As name implies , Smart Summon intended considerably advanced feature regular Summon . Tesla says “ designed allow car drive location choosing. ” Tesla ’ website states Smart Summon , “ car navigate complex environments parking spaces , maneuvering around objects necessary come find parking lot. ” Using Tesla smartphone app , driver either pinpoint destination spot map car , car drive using Come Me button . We tried Smart Summon number scenarios , including parking lot CR headquarters Yonkers , N.Y . Overall , system proved unreliable . At times would take overly complicated routes reach us , situations might get stuck incline , deactivate completely . Even Smart Summon able arrive specified location , would spend time wrong lane parking lot , pause parking-lot stop signs , take wide turns head toward parked cars drive Reverse avoid collision , shown animation . These situations could cause confusion drivers , well potential hazard pedestrians car ’ path . Tesla states clearly website “ Smart Summon intended use private parking lots driveways . You still responsible car must monitor surroundings times within line sight may detect obstacles. ” Private parking lots include stores restaurants , means think Smart Summon personal valet service . We see benefits feature , instance car drive meet groceries near store entrance rainy day . But Tesla ’ bugs worked yet , testing shows . “ At times appeared erratic , ” Funkhouser says . “ We think customer experiences system ’ inconsistent behavior , likely use again. ” Navigate Autopilot This feature expands existing Autopilot system , adding ability Tesla ’ traveling highway take on- off-ramps , make lane changes without driver input destination programmed car ’ navigation system . It “ actively guides car highway ’ on-ramp off-ramp , including suggesting lane changes , navigating interchanges , automatically engaging turn signal taking correct exit , ” according Tesla . While system , fact , things , far consistent . In one case , system completely ignored exit supposed take ; put tester route also stuck car carpool lane one person vehicle . In another example , system suddenly disengaged , causing confusion driver heavily trafficked area on-ramp quickly approaching . Yet ’ situations exactly like driver needs focused environment around , distracted driving feature suddenly problem . We also found Navigate Autopilot would occasionally leave us driving passing lane highway long periods time , safest course action—not mention proper lane etiquette state laws—requires moving back center right lane situation . We also concerned Navigate Autopilot allow driver set feature automatically make lane changes , without driver activating turn-signal stalk without system giving warning driver lane change happen . “ The setting allows driver turn system ’ lane-change confirmations warnings worrying , downright dangerous , ” Fisher says . “ It could lead drivers becoming startled unexpected unsafe lane change driving highway speeds. ” Traffic Light Stop Sign Control Consumer Reports Consumer Reports This recent feature join Full Self-Driving Capability package , used conjunction adaptive cruise control lane keeping assistance . Tesla says Autopilot engaged , system “ identifies stop signs traffic lights automatically slows car stop approach , active supervision. ” If intersection clear , driver tap accelerator pedal pull gear selector stalk keep car going . By Tesla ’ design , feature bring car complete stop traffic light , regardless whether light red , yellow , green . The time Tesla drive green light without stopping lead vehicle front follow light—or override system . In addition fact goes normal driving etiquette car start slowing stop green light , also found Tesla would occasionally hit brakes far away stop sign , causing driver keep hitting accelerator pedal gear selector stalk multiple times move car way stop sign . In circumstances , car simply ’ recognize stop sign , forcing tester hit brakes avoid driving right stop sign intersection . In animation , recognized sign late , slammed brakes , came stop middle intersection . The system also problems navigating roundabout , stopping exit went around traffic circle . Other times would slam brakes approaching yield sign , even merge clear . “ In current iteration , think Tesla ’ Traffic Light Stop Sign Control create confusion distraction driver , ” Fisher says . Beta Testing Tesla labels Navigate Autopilot Traffic Light Stop Sign Control features “ Beta ” center display screen , usually means computer software still development . While opt use features , testing demonstrated number problems using everyday driving . For article , asked Tesla email definition beta asked driver tell separates features listed beta . Tesla respond . “ Tesla repeatedly rolled crude beta features , put people ’ safety risk ’ used anywhere private test track proving ground , ” says William Wallace , manager safety policy Consumer Reports . Tesla says features improve time , point ’ seem worth hefty $ 8,000 price tag . “ It seems like Tesla focused automaker features rather ensuring features work well , ” Funkhouser says . “ Its time energy could better spent developing driver monitoring system Autopilot significantly improve safety usefulness system. ” Tesla collects data buy cars help improve , using developing technology like road come without risk drivers . We ’ continue evaluate active driving assistance systems available . Editor 's Note : This article updated add information California DMV Tesla `` review '' statements made FSD feature also information NHTSA initiated 28 special crash investigations crashes involving Tesla vehicles advanced driver assistance systems including Autopilot Full Self-Driving Capability . An earlier update Oct. 23 , 2020 , added information price increase FSD $ 10,000 company started releasing significant FSD update limited owners `` beta '' form . This article originally published Sept. 4 , 2020 . Mike Monticello After dad gave ride Yamaha two-stroke motorcycle I 3 , I hooked anything engine . I got master ’ journalism means end : To drive cars get paid , led jobs Road & Track Edmunds.com . My thrilling moment far hurtling autobahn GPS-timed 217.1 mph Ruf Rt12 . On weekends find churning dirt mountain bike car motorcycle track days . Follow Twitter . ( @ MikeMonticello ) Keith Barry Despite love quirky , old European sedans like Renault Medallion , 's passion help others find safe , reliable car still puts smile face—even 're stuck traffic . When I 'm behind wheel keyboard , find exploring new city foot planning next trip . Sharing Nice Yes , send copy email . Send We respect privacy . All email addresses provide used sending story . Thanks sharing . Oops , messed . Try later More From Consumer Reports SHOW COMMENTS commenting powered Facebook Be first comment Member Support Contact Us Account Settings What Membership ? Make Donation Newsletters Give Gift About About Us Career Opportunities Media Room Advocacy CR Recommended Program Data Intelligence Digital Lab Product Reviews Appliances Babies & Kids Cars Electronics Health Home & Garden Money A-Z Index Magazine & Books Current Issue CR Digital Archive 5 Year Index CR Store More Video en Español Report Safety Problem Give Confidential News Tip Buy New Car Buy Used Car Join Donate Facebook Twitter YouTube Pinterest Privacy Policy User Agreement Ad Choices Do Not Sell My Personal Information © 2021 Consumer Reports , Inc .\""
      ]
     },
     "execution_count": 18,
     "metadata": {},
     "output_type": "execute_result"
    }
   ],
   "source": [
    "df.loc[2]['Content_Parsed_1']"
   ]
  },
  {
   "cell_type": "code",
   "execution_count": 19,
   "metadata": {},
   "outputs": [
    {
     "data": {
      "text/plain": [
       "\"industries services site selection why michigan news thousands resources . ready help . loading ... advantages office future mobility cost living calculator success stories awards rankings covid-19 resources popular newsletter sign up foreign direct investment michigan strategic fund ( msf ) about medc covid-19 response industries services site selection why michigan news about medc contact medc community michigan strategic fund freedom information act medc project map site selection pure michigan travel mobility pure opportunity pure opportunity `` in michigan , revolution air . '' talk specialist talk specialist trevor pawl chief mobility officer , office future mobility electrification michigan always kept world moving . our manufacturing automotive heritage paired mobility ecosystem talented workforce proving make difference helping shape future . join us make mark matters . learn more the office future mobility electrification michigan demonstrates leadership driving collaboration among public , private philanthropic partners advance state ’ mobility ecosystem . get connected statewide network michigan several competitive advantages make state place mobility solutions born companies find business support help grow succeed . learn more michigan mobility funding platform launched ofme the michigan department transportation , platform provides grants mobility electrification companies looking deploy technology solutions state michigan . apply now get started sign receive michigan mobility e-newsletter latest news events office future mobility electrification . sign michigan intersection mobility innovation . learn state 's leading initiatives advice help startups get game . download whitepaper download - michigan : at the intersection mobility innovation fill information receive access michigan : at the intersection mobility innovation first name last name email address submit latest news michigan : building mobility 's future mobility success story dataspeed explore michigan 's core industries mobility automotive manufacturing michigan past , present future global automotive industry . engineering design development as world leader automotive mobility r & d , michigan driving next generation industry innovation . professional corporate services companies continue choose michigan locate headquarters businesses , tapping concentration talent available professional corporate services industries . advanced manufacturing michigan building rich manufacturing heritage technological know-how develop innovative , high-tech products future . medical device technology michigan ’ manufacturing prowess core world-class medical device companies make state top tier location medical device development manufacturing . tech michigan leading way developing innovative solutions protecting security systems people across state , country world . about medc newsletter sign up transparency public notices & rfps contact medc site map terms conditions address 300 n. washington sq. , lansing , mi 48913 888.522.0103 © 2021 michigan economic development corporation\""
      ]
     },
     "execution_count": 19,
     "metadata": {},
     "output_type": "execute_result"
    }
   ],
   "source": [
    "df.loc[5]['Content_Parsed_2']"
   ]
  },
  {
   "cell_type": "code",
   "execution_count": 20,
   "metadata": {},
   "outputs": [
    {
     "data": {
      "text/plain": [
       "\"industries services site selection why michigan news thousands resources  ready help  loading  advantages office future mobility cost living calculator success stories awards rankings covid-19 resources popular newsletter sign up foreign direct investment michigan strategic fund ( msf ) about medc covid-19 response industries services site selection why michigan news about medc contact medc community michigan strategic fund freedom information act medc project map site selection pure michigan travel mobility pure opportunity pure opportunity `` in michigan  revolution air  '' talk specialist talk specialist trevor pawl chief mobility officer  office future mobility electrification michigan always kept world moving  our manufacturing automotive heritage paired mobility ecosystem talented workforce proving make difference helping shape future  join us make mark matters  learn more the office future mobility electrification michigan demonstrates leadership driving collaboration among public  private philanthropic partners advance state ’ mobility ecosystem  get connected statewide network michigan several competitive advantages make state place mobility solutions born companies find business support help grow succeed  learn more michigan mobility funding platform launched ofme the michigan department transportation  platform provides grants mobility electrification companies looking deploy technology solutions state michigan  apply now get started sign receive michigan mobility e-newsletter latest news events office future mobility electrification  sign michigan intersection mobility innovation  learn state 's leading initiatives advice help startups get game  download whitepaper download - michigan  at the intersection mobility innovation fill information receive access michigan  at the intersection mobility innovation first name last name email address submit latest news michigan  building mobility 's future mobility success story dataspeed explore michigan 's core industries mobility automotive manufacturing michigan past  present future global automotive industry  engineering design development as world leader automotive mobility r & d  michigan driving next generation industry innovation  professional corporate services companies continue choose michigan locate headquarters businesses  tapping concentration talent available professional corporate services industries  advanced manufacturing michigan building rich manufacturing heritage technological know-how develop innovative  high-tech products future  medical device technology michigan ’ manufacturing prowess core world-class medical device companies make state top tier location medical device development manufacturing  tech michigan leading way developing innovative solutions protecting security systems people across state  country world  about medc newsletter sign up transparency public notices & rfps contact medc site map terms conditions address 300 n washington sq  lansing  mi 48913 8885220103 © 2021 michigan economic development corporation\""
      ]
     },
     "execution_count": 20,
     "metadata": {},
     "output_type": "execute_result"
    }
   ],
   "source": [
    "df.loc[5]['Content_Parsed_3']"
   ]
  },
  {
   "cell_type": "code",
   "execution_count": 21,
   "metadata": {},
   "outputs": [
    {
     "data": {
      "text/plain": [
       "\"industries services site selection why michigan news thousands resources  ready help  loading  advantages office future mobility cost living calculator success stories awards rankings covid-19 resources popular newsletter sign up foreign direct investment michigan strategic fund ( msf ) about medc covid-19 response industries services site selection why michigan news about medc contact medc community michigan strategic fund freedom information act medc project map site selection pure michigan travel mobility pure opportunity pure opportunity `` in michigan  revolution air  '' talk specialist talk specialist trevor pawl chief mobility officer  office future mobility electrification michigan always kept world moving  our manufacturing automotive heritage paired mobility ecosystem talented workforce proving make difference helping shape future  join us make mark matters  learn more the office future mobility electrification michigan demonstrates leadership driving collaboration among public  private philanthropic partners advance state ’ mobility ecosystem  get connected statewide network michigan several competitive advantages make state place mobility solutions born companies find business support help grow succeed  learn more michigan mobility funding platform launched ofme the michigan department transportation  platform provides grants mobility electrification companies looking deploy technology solutions state michigan  apply now get started sign receive michigan mobility e-newsletter latest news events office future mobility electrification  sign michigan intersection mobility innovation  learn state  leading initiatives advice help startups get game  download whitepaper download - michigan  at the intersection mobility innovation fill information receive access michigan  at the intersection mobility innovation first name last name email address submit latest news michigan  building mobility  future mobility success story dataspeed explore michigan  core industries mobility automotive manufacturing michigan past  present future global automotive industry  engineering design development as world leader automotive mobility r & d  michigan driving next generation industry innovation  professional corporate services companies continue choose michigan locate headquarters businesses  tapping concentration talent available professional corporate services industries  advanced manufacturing michigan building rich manufacturing heritage technological know-how develop innovative  high-tech products future  medical device technology michigan ’ manufacturing prowess core world-class medical device companies make state top tier location medical device development manufacturing  tech michigan leading way developing innovative solutions protecting security systems people across state  country world  about medc newsletter sign up transparency public notices & rfps contact medc site map terms conditions address 300 n washington sq  lansing  mi 48913 8885220103 © 2021 michigan economic development corporation\""
      ]
     },
     "execution_count": 21,
     "metadata": {},
     "output_type": "execute_result"
    }
   ],
   "source": [
    "df.loc[5]['Content_Parsed_4']"
   ]
  },
  {
   "cell_type": "code",
   "execution_count": 22,
   "metadata": {},
   "outputs": [
    {
     "data": {
      "text/plain": [
       "\"industries service site selection why michigan news thousands resources  ready help  load  advantage office future mobility cost live calculator success stories award rank covid-19 resources popular newsletter sign up foreign direct investment michigan strategic fund ( msf ) about medc covid-19 response industries service site selection why michigan news about medc contact medc community michigan strategic fund freedom information act medc project map site selection pure michigan travel mobility pure opportunity pure opportunity `` in michigan  revolution air  '' talk specialist talk specialist trevor pawl chief mobility officer  office future mobility electrification michigan always keep world move  our manufacture automotive heritage pair mobility ecosystem talented workforce prove make difference help shape future  join us make mark matter  learn more the office future mobility electrification michigan demonstrate leadership drive collaboration among public  private philanthropic partner advance state ’ mobility ecosystem  get connect statewide network michigan several competitive advantage make state place mobility solutions bear company find business support help grow succeed  learn more michigan mobility fund platform launch ofme the michigan department transportation  platform provide grant mobility electrification company look deploy technology solutions state michigan  apply now get start sign receive michigan mobility e-newsletter latest news events office future mobility electrification  sign michigan intersection mobility innovation  learn state  lead initiatives advice help startups get game  download whitepaper download - michigan  at the intersection mobility innovation fill information receive access michigan  at the intersection mobility innovation first name last name email address submit latest news michigan  build mobility  future mobility success story dataspeed explore michigan  core industries mobility automotive manufacture michigan past  present future global automotive industry  engineer design development as world leader automotive mobility r & d  michigan drive next generation industry innovation  professional corporate service company continue choose michigan locate headquarter businesses  tap concentration talent available professional corporate service industries  advance manufacture michigan build rich manufacture heritage technological know-how develop innovative  high-tech products future  medical device technology michigan ’ manufacture prowess core world-class medical device company make state top tier location medical device development manufacture  tech michigan lead way develop innovative solutions protect security systems people across state  country world  about medc newsletter sign up transparency public notice & rfps contact medc site map term condition address 300 n washington sq  lansing  mi 48913 8885220103 © 2021 michigan economic development corporation\""
      ]
     },
     "execution_count": 22,
     "metadata": {},
     "output_type": "execute_result"
    }
   ],
   "source": [
    "df.loc[5]['Content_Parsed_5']"
   ]
  },
  {
   "cell_type": "code",
   "execution_count": 23,
   "metadata": {},
   "outputs": [
    {
     "data": {
      "text/plain": [
       "\"industries service site selection  michigan news thousands resources  ready help  load  advantage office future mobility cost live calculator success stories award rank covid-19 resources popular newsletter sign  foreign direct investment michigan strategic fund ( msf )  medc covid-19 response industries service site selection  michigan news  medc contact medc community michigan strategic fund freedom information act medc project map site selection pure michigan travel mobility pure opportunity pure opportunity ``  michigan  revolution air  '' talk specialist talk specialist trevor pawl chief mobility officer  office future mobility electrification michigan always keep world move   manufacture automotive heritage pair mobility ecosystem talented workforce prove make difference help shape future  join us make mark matter  learn   office future mobility electrification michigan demonstrate leadership drive collaboration among public  private philanthropic partner advance state ’ mobility ecosystem  get connect statewide network michigan several competitive advantage make state place mobility solutions bear company find business support help grow succeed  learn  michigan mobility fund platform launch ofme  michigan department transportation  platform provide grant mobility electrification company look deploy technology solutions state michigan  apply  get start sign receive michigan mobility e-newsletter latest news events office future mobility electrification  sign michigan intersection mobility innovation  learn state  lead initiatives advice help startups get game  download whitepaper download - michigan    intersection mobility innovation fill information receive access michigan    intersection mobility innovation first name last name email address submit latest news michigan  build mobility  future mobility success story dataspeed explore michigan  core industries mobility automotive manufacture michigan past  present future global automotive industry  engineer design development  world leader automotive mobility r &   michigan drive next generation industry innovation  professional corporate service company continue choose michigan locate headquarter businesses  tap concentration talent available professional corporate service industries  advance manufacture michigan build rich manufacture heritage technological know- develop innovative  high-tech products future  medical device technology michigan ’ manufacture prowess core world-class medical device company make state top tier location medical device development manufacture  tech michigan lead way develop innovative solutions protect security systems people across state  country world   medc newsletter sign  transparency public notice & rfps contact medc site map term condition address 300 n washington sq  lansing  mi 48913 8885220103 © 2021 michigan economic development corporation\""
      ]
     },
     "execution_count": 23,
     "metadata": {},
     "output_type": "execute_result"
    }
   ],
   "source": [
    "df.loc[5]['Content_Parsed_6']"
   ]
  },
  {
   "cell_type": "code",
   "execution_count": 24,
   "metadata": {},
   "outputs": [
    {
     "data": {
      "text/html": [
       "<div>\n",
       "<style scoped>\n",
       "    .dataframe tbody tr th:only-of-type {\n",
       "        vertical-align: middle;\n",
       "    }\n",
       "\n",
       "    .dataframe tbody tr th {\n",
       "        vertical-align: top;\n",
       "    }\n",
       "\n",
       "    .dataframe thead th {\n",
       "        text-align: right;\n",
       "    }\n",
       "</style>\n",
       "<table border=\"1\" class=\"dataframe\">\n",
       "  <thead>\n",
       "    <tr style=\"text-align: right;\">\n",
       "      <th></th>\n",
       "      <th>Article</th>\n",
       "      <th>labels</th>\n",
       "      <th>News_length</th>\n",
       "      <th>Content_Parsed_1</th>\n",
       "      <th>Content_Parsed_2</th>\n",
       "      <th>Content_Parsed_3</th>\n",
       "      <th>Content_Parsed_4</th>\n",
       "      <th>Content_Parsed_5</th>\n",
       "      <th>Content_Parsed_6</th>\n",
       "    </tr>\n",
       "  </thead>\n",
       "  <tbody>\n",
       "    <tr>\n",
       "      <td>0</td>\n",
       "      <td>You need enable JavaScript view site . Skip Co...</td>\n",
       "      <td>0</td>\n",
       "      <td>9339</td>\n",
       "      <td>You need enable JavaScript view site . Skip Co...</td>\n",
       "      <td>you need enable javascript view site . skip co...</td>\n",
       "      <td>you need enable javascript view site  skip con...</td>\n",
       "      <td>you need enable javascript view site  skip con...</td>\n",
       "      <td>you need enable javascript view site  skip con...</td>\n",
       "      <td>need enable javascript view site  skip conten...</td>\n",
       "    </tr>\n",
       "  </tbody>\n",
       "</table>\n",
       "</div>"
      ],
      "text/plain": [
       "                                             Article  labels  News_length  \\\n",
       "0  You need enable JavaScript view site . Skip Co...       0         9339   \n",
       "\n",
       "                                    Content_Parsed_1  \\\n",
       "0  You need enable JavaScript view site . Skip Co...   \n",
       "\n",
       "                                    Content_Parsed_2  \\\n",
       "0  you need enable javascript view site . skip co...   \n",
       "\n",
       "                                    Content_Parsed_3  \\\n",
       "0  you need enable javascript view site  skip con...   \n",
       "\n",
       "                                    Content_Parsed_4  \\\n",
       "0  you need enable javascript view site  skip con...   \n",
       "\n",
       "                                    Content_Parsed_5  \\\n",
       "0  you need enable javascript view site  skip con...   \n",
       "\n",
       "                                    Content_Parsed_6  \n",
       "0   need enable javascript view site  skip conten...  "
      ]
     },
     "execution_count": 24,
     "metadata": {},
     "output_type": "execute_result"
    }
   ],
   "source": [
    "df.head(1)"
   ]
  },
  {
   "cell_type": "code",
   "execution_count": 25,
   "metadata": {},
   "outputs": [],
   "source": [
    "list_columns = [\"labels\",\"Article\", \"Content_Parsed_6\"]\n",
    "df = df[list_columns]\n",
    "\n",
    "df = df.rename(columns={'Content_Parsed_6': 'Content_Parsed'})"
   ]
  },
  {
   "cell_type": "code",
   "execution_count": 26,
   "metadata": {},
   "outputs": [
    {
     "data": {
      "text/html": [
       "<div>\n",
       "<style scoped>\n",
       "    .dataframe tbody tr th:only-of-type {\n",
       "        vertical-align: middle;\n",
       "    }\n",
       "\n",
       "    .dataframe tbody tr th {\n",
       "        vertical-align: top;\n",
       "    }\n",
       "\n",
       "    .dataframe thead th {\n",
       "        text-align: right;\n",
       "    }\n",
       "</style>\n",
       "<table border=\"1\" class=\"dataframe\">\n",
       "  <thead>\n",
       "    <tr style=\"text-align: right;\">\n",
       "      <th></th>\n",
       "      <th>labels</th>\n",
       "      <th>Article</th>\n",
       "      <th>Content_Parsed</th>\n",
       "    </tr>\n",
       "  </thead>\n",
       "  <tbody>\n",
       "    <tr>\n",
       "      <td>0</td>\n",
       "      <td>0</td>\n",
       "      <td>You need enable JavaScript view site . Skip Co...</td>\n",
       "      <td>need enable javascript view site  skip conten...</td>\n",
       "    </tr>\n",
       "    <tr>\n",
       "      <td>1</td>\n",
       "      <td>1</td>\n",
       "      <td>Skip main content The Verge homepage Follow Th...</td>\n",
       "      <td>skip main content  verge homepage follow  verg...</td>\n",
       "    </tr>\n",
       "    <tr>\n",
       "      <td>2</td>\n",
       "      <td>1</td>\n",
       "      <td>Product Reviews Top Products Appliances Babies...</td>\n",
       "      <td>product review top products appliances baby &amp; ...</td>\n",
       "    </tr>\n",
       "    <tr>\n",
       "      <td>3</td>\n",
       "      <td>1</td>\n",
       "      <td>Markets Tech Media Success Perspectives Videos...</td>\n",
       "      <td>market tech media success perspectives videos ...</td>\n",
       "    </tr>\n",
       "    <tr>\n",
       "      <td>4</td>\n",
       "      <td>1</td>\n",
       "      <td>Skip main content September 4 , 2021 Volume XI...</td>\n",
       "      <td>skip main content september 4  2021 volume xi ...</td>\n",
       "    </tr>\n",
       "  </tbody>\n",
       "</table>\n",
       "</div>"
      ],
      "text/plain": [
       "   labels                                            Article  \\\n",
       "0       0  You need enable JavaScript view site . Skip Co...   \n",
       "1       1  Skip main content The Verge homepage Follow Th...   \n",
       "2       1  Product Reviews Top Products Appliances Babies...   \n",
       "3       1  Markets Tech Media Success Perspectives Videos...   \n",
       "4       1  Skip main content September 4 , 2021 Volume XI...   \n",
       "\n",
       "                                      Content_Parsed  \n",
       "0   need enable javascript view site  skip conten...  \n",
       "1  skip main content  verge homepage follow  verg...  \n",
       "2  product review top products appliances baby & ...  \n",
       "3  market tech media success perspectives videos ...  \n",
       "4  skip main content september 4  2021 volume xi ...  "
      ]
     },
     "execution_count": 26,
     "metadata": {},
     "output_type": "execute_result"
    }
   ],
   "source": [
    "df.head()"
   ]
  },
  {
   "cell_type": "markdown",
   "metadata": {},
   "source": [
    "# 3. Train - test split\n",
    "We'll set apart a test set to prove the quality of our models. We'll do Cross Validation in the train set in order to tune the hyperparameters and then test performance on the unseen data of the test set."
   ]
  },
  {
   "cell_type": "code",
   "execution_count": 27,
   "metadata": {},
   "outputs": [],
   "source": [
    "X_train, X_test, y_train, y_test = train_test_split(df['Content_Parsed'], \n",
    "                                                    df['labels'], \n",
    "                                                    test_size=0.15, \n",
    "                                                    random_state=8)"
   ]
  },
  {
   "cell_type": "code",
   "execution_count": 31,
   "metadata": {},
   "outputs": [
    {
     "data": {
      "text/plain": [
       "(5,)"
      ]
     },
     "execution_count": 31,
     "metadata": {},
     "output_type": "execute_result"
    }
   ],
   "source": [
    "X_train.shape"
   ]
  },
  {
   "cell_type": "markdown",
   "metadata": {},
   "source": [
    "# 4. Text representation\n",
    "We have various options:\n",
    "\n",
    "Count Vectors as features\n",
    "TF-IDF Vectors as features\n",
    "Word Embeddings as features\n",
    "Text / NLP based features\n",
    "Topic Models as features\n",
    "We'll use TF-IDF Vectors as features.\n",
    "\n",
    "We have to define the different parameters:\n",
    "\n",
    "ngram_range: We want to consider both unigrams and bigrams.\n",
    "max_df: When building the vocabulary ignore terms that have a document frequency strictly higher than the given threshold\n",
    "min_df: When building the vocabulary ignore terms that have a document frequency strictly lower than the given threshold.\n",
    "max_features: If not None, build a vocabulary that only consider the top max_features ordered by term frequency across the corpus.\n",
    "See TfidfVectorizer? for further detail.\n",
    "\n",
    "It needs to be mentioned that we are implicitly scaling our data when representing it as TF-IDF features with the argument norm"
   ]
  },
  {
   "cell_type": "code",
   "execution_count": 49,
   "metadata": {},
   "outputs": [],
   "source": [
    "ngram_range = (1,2)\n",
    "min_df = 3\n",
    "max_df = 1.\n",
    "max_features = 300"
   ]
  },
  {
   "cell_type": "code",
   "execution_count": 50,
   "metadata": {},
   "outputs": [
    {
     "name": "stdout",
     "output_type": "stream",
     "text": [
      "(5, 300)\n",
      "(1, 300)\n"
     ]
    }
   ],
   "source": [
    "tfidf = TfidfVectorizer(encoding='utf-8',\n",
    "                        ngram_range=ngram_range,\n",
    "                        stop_words=None,\n",
    "                        lowercase=False,\n",
    "                        max_df=max_df,\n",
    "                        min_df=min_df,\n",
    "                        max_features=max_features,\n",
    "                        norm='l2',\n",
    "                        sublinear_tf=True)\n",
    "                        \n",
    "features_train = tfidf.fit_transform(X_train).toarray()\n",
    "labels_train = y_train\n",
    "print(features_train.shape)\n",
    "\n",
    "features_test = tfidf.transform(X_test).toarray()\n",
    "labels_test = y_test\n",
    "print(features_test.shape)"
   ]
  },
  {
   "cell_type": "code",
   "execution_count": 35,
   "metadata": {},
   "outputs": [
    {
     "name": "stdout",
     "output_type": "stream",
     "text": [
      "# '0' category:\n",
      "  . Most correlated unigrams:\n",
      ". help\n",
      ". office\n",
      ". manufacture\n",
      ". mobility\n",
      ". michigan\n",
      "  . Most correlated bigrams:\n",
      ". self driving\n",
      ". covid 19\n",
      "\n",
      "# '1' category:\n",
      "  . Most correlated unigrams:\n",
      ". help\n",
      ". office\n",
      ". manufacture\n",
      ". mobility\n",
      ". michigan\n",
      "  . Most correlated bigrams:\n",
      ". self driving\n",
      ". covid 19\n",
      "\n",
      "# '2' category:\n",
      "  . Most correlated unigrams:\n",
      ". help\n",
      ". office\n",
      ". manufacture\n",
      ". mobility\n",
      ". michigan\n",
      "  . Most correlated bigrams:\n",
      ". self driving\n",
      ". covid 19\n",
      "\n",
      "# '3' category:\n",
      "  . Most correlated unigrams:\n",
      ". help\n",
      ". office\n",
      ". manufacture\n",
      ". mobility\n",
      ". michigan\n",
      "  . Most correlated bigrams:\n",
      ". self driving\n",
      ". covid 19\n",
      "\n",
      "# '4' category:\n",
      "  . Most correlated unigrams:\n",
      ". help\n",
      ". office\n",
      ". manufacture\n",
      ". mobility\n",
      ". michigan\n",
      "  . Most correlated bigrams:\n",
      ". self driving\n",
      ". covid 19\n",
      "\n",
      "# '5' category:\n",
      "  . Most correlated unigrams:\n",
      ". help\n",
      ". office\n",
      ". manufacture\n",
      ". mobility\n",
      ". michigan\n",
      "  . Most correlated bigrams:\n",
      ". self driving\n",
      ". covid 19\n",
      "\n"
     ]
    }
   ],
   "source": [
    "from sklearn.feature_selection import chi2\n",
    "import numpy as np\n",
    "\n",
    "for Product, category_id in sorted(df['labels'].items()):\n",
    "    features_chi2 = chi2(features_train, labels_train == category_id)\n",
    "    indices = np.argsort(features_chi2[0])\n",
    "    feature_names = np.array(tfidf.get_feature_names())[indices]\n",
    "    unigrams = [v for v in feature_names if len(v.split(' ')) == 1]\n",
    "    bigrams = [v for v in feature_names if len(v.split(' ')) == 2]\n",
    "    print(\"# '{}' category:\".format(Product))\n",
    "    print(\"  . Most correlated unigrams:\\n. {}\".format('\\n. '.join(unigrams[-5:])))\n",
    "    print(\"  . Most correlated bigrams:\\n. {}\".format('\\n. '.join(bigrams[-2:])))\n",
    "    print(\"\")\n"
   ]
  },
  {
   "cell_type": "code",
   "execution_count": 36,
   "metadata": {},
   "outputs": [
    {
     "data": {
      "text/plain": [
       "['sign control',\n",
       " 'navigate autopilot',\n",
       " 'smart summon',\n",
       " 'videos product',\n",
       " 'home garden',\n",
       " 'car buy',\n",
       " 'consumer report',\n",
       " 'baby kid',\n",
       " 'car drive',\n",
       " 'driving capability',\n",
       " 'lane change',\n",
       " 'light stop',\n",
       " 'contact us',\n",
       " 'stop sign',\n",
       " 'privacy policy',\n",
       " 'traffic light',\n",
       " 'park lot',\n",
       " 'tesla model',\n",
       " 'product review',\n",
       " 'law review',\n",
       " 'assistance systems',\n",
       " 'news videos',\n",
       " 'national law',\n",
       " 'dow jones',\n",
       " 'tesla full',\n",
       " 'beta testers',\n",
       " 'driverless cars',\n",
       " 'term use',\n",
       " 'cnn business',\n",
       " 'autonomous vehicles',\n",
       " 'full self',\n",
       " 'driving cars',\n",
       " 'self driving',\n",
       " 'covid 19']"
      ]
     },
     "execution_count": 36,
     "metadata": {},
     "output_type": "execute_result"
    }
   ],
   "source": [
    "bigrams"
   ]
  },
  {
   "cell_type": "code",
   "execution_count": 38,
   "metadata": {},
   "outputs": [],
   "source": [
    "\n",
    "# X_train\n",
    "with open('Pickles/X_train.pickle', 'wb') as output:\n",
    "    pickle.dump(X_train, output)\n",
    "    \n",
    "# X_test    \n",
    "with open('Pickles/X_test.pickle', 'wb') as output:\n",
    "    pickle.dump(X_test, output)\n",
    "    \n",
    "# y_train\n",
    "with open('Pickles/y_train.pickle', 'wb') as output:\n",
    "    pickle.dump(y_train, output)\n",
    "    \n",
    "# y_test\n",
    "with open('Pickles/y_test.pickle', 'wb') as output:\n",
    "    pickle.dump(y_test, output)\n",
    "    \n",
    "# df\n",
    "with open('Pickles/df.pickle', 'wb') as output:\n",
    "    pickle.dump(df, output)\n",
    "    \n",
    "# features_train\n",
    "with open('Pickles/features_train.pickle', 'wb') as output:\n",
    "    pickle.dump(features_train, output)\n",
    "\n",
    "# labels_train\n",
    "with open('Pickles/labels_train.pickle', 'wb') as output:\n",
    "    pickle.dump(labels_train, output)\n",
    "\n",
    "# features_test\n",
    "with open('Pickles/features_test.pickle', 'wb') as output:\n",
    "    pickle.dump(features_test, output)\n",
    "\n",
    "# labels_test\n",
    "with open('Pickles/labels_test.pickle', 'wb') as output:\n",
    "    pickle.dump(labels_test, output)\n",
    "    \n",
    "# TF-IDF object\n",
    "with open('Pickles/tfidf.pickle', 'wb') as output:\n",
    "    pickle.dump(tfidf, output)"
   ]
  }
 ],
 "metadata": {
  "kernelspec": {
   "display_name": "Python 3",
   "language": "python",
   "name": "python3"
  },
  "language_info": {
   "codemirror_mode": {
    "name": "ipython",
    "version": 3
   },
   "file_extension": ".py",
   "mimetype": "text/x-python",
   "name": "python",
   "nbconvert_exporter": "python",
   "pygments_lexer": "ipython3",
   "version": "3.7.4"
  }
 },
 "nbformat": 4,
 "nbformat_minor": 2
}
